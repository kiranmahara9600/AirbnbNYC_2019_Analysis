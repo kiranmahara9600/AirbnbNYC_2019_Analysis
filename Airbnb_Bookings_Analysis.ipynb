{
  "cells": [
    {
      "cell_type": "markdown",
      "metadata": {
        "id": "view-in-github",
        "colab_type": "text"
      },
      "source": [
        "<a href=\"https://colab.research.google.com/github/kiranmahara9600/AirbnbNYC_2019_Analysis/blob/main/Airbnb_Bookings_Analysis.ipynb\" target=\"_parent\"><img src=\"https://colab.research.google.com/assets/colab-badge.svg\" alt=\"Open In Colab\"/></a>"
      ]
    },
    {
      "cell_type": "markdown",
      "metadata": {
        "id": "Y06xIdG26kRF"
      },
      "source": [
        "***Since 2008, guests and hosts have used Airbnb to expand on traveling possibilities and present a more unique, personalized way of experiencing the world. Today, Airbnb became one of a kind service that is used and recognized by the whole world. Data analysis on millions of listings provided through Airbnb is a crucial factor for the company. These millions of listings generate a lot of data - data that can be analyzed and used for security, business decisions, understanding of customers' and providers' (hosts) behavior and performance on the platform, guiding marketing initiatives, implementation of innovative additional services and much more.***\n",
        "\n",
        "# ***This dataset has around 49,000 observations in it with 16 columns and it is a mix between categorical and numeric values.***\n",
        "\n",
        "***Explore and analyze the data to discover key understandings (not limited to these) such as :***\n",
        "\n",
        "*What can we learn about different hosts and areas?*\n",
        "\n",
        "*What can we learn from predictions? (ex: locations, prices, reviews, etc)*\n",
        "\n",
        "*Which hosts are the busiest and why?*\n",
        "\n",
        "*Is there any noticeable difference of traffic among different areas and what could be the reason for it?*"
      ]
    },
    {
      "cell_type": "code",
      "source": [
        "#importing all the necessary modules/libraries required during the analysis\n",
        "import numpy as np\n",
        "import pandas as pd\n",
        "import matplotlib.pyplot as plt\n",
        "%matplotlib inline\n",
        "import seaborn as sns\n",
        "import warnings\n",
        "warnings.filterwarnings('ignore')"
      ],
      "metadata": {
        "id": "kysoj5gINX_5"
      },
      "execution_count": null,
      "outputs": []
    },
    {
      "cell_type": "code",
      "source": [
        "#mounting google drive in colab\n",
        "from google.colab import drive\n",
        "drive.mount('/content/drive')"
      ],
      "metadata": {
        "id": "ZnqxDgQMqh4u"
      },
      "execution_count": null,
      "outputs": []
    },
    {
      "cell_type": "code",
      "source": [
        "#reading airbnb NYC 2019 csv data and storing it in airbnbNY_data dataframe\n",
        "file_path='/content/drive/MyDrive/Datascience/Datasets/Airbnb NYC 2019.csv'\n",
        "airbnbNY_data=pd.read_csv(file_path)"
      ],
      "metadata": {
        "id": "drMu7KeYN0wa"
      },
      "execution_count": null,
      "outputs": []
    },
    {
      "cell_type": "markdown",
      "metadata": {
        "id": "hQRkJ9echIuE"
      },
      "source": [
        "# ***Part 1: Basic datapreprocessing and Cleaning***"
      ]
    },
    {
      "cell_type": "code",
      "execution_count": null,
      "metadata": {
        "id": "imstWQBuSvcf"
      },
      "outputs": [],
      "source": [
        "#----------------------Block 1----------------------------------\n",
        "\n",
        "#checking for no. of observations and features in our dataset\n",
        "airbnbNY_data.shape"
      ]
    },
    {
      "cell_type": "markdown",
      "metadata": {
        "id": "iAcEzFiiQVyW"
      },
      "source": [
        "*We have a listings of 48895 observations with 16 features*"
      ]
    },
    {
      "cell_type": "code",
      "execution_count": null,
      "metadata": {
        "id": "X8MG2jBomQj6"
      },
      "outputs": [],
      "source": [
        "#----------------------Block 2----------------------------------\n",
        "\n",
        "# visualising first 5 observations from our dataset \n",
        "airbnbNY_data.head()"
      ]
    },
    {
      "cell_type": "markdown",
      "metadata": {
        "id": "ihSProwlQmv7"
      },
      "source": [
        " ****Data Dictionary****\n",
        "\n",
        "*1. ID - ID is just an unique identifier of each row.*\n",
        "\n",
        "*2. Name - It is a rental name which user sees while booking(hotel name).*\n",
        "\n",
        "*3. Host ID - Every host on Airbnb gets an unique host id, host id here represents that id only.*\n",
        "\n",
        "*4. Host name - Name of the host.*\n",
        "\n",
        "*5. Neighbourhood_group - Whole New York is divied into 5 neighbourhood_group(boroughs) regionally. It shows in which borough particular listing is located.*\n",
        "\n",
        "*6. Neighbourhood - Each borough is further sub divided into neighbourhoods. This column shows the neighbourhood of particular listing.*\n",
        "\n",
        "*7. Latitude and longitude - These shows the geographical positions of a rental.*\n",
        "\n",
        "*8. Room_Type -  Which room type a rental is offering.*\n",
        "\n",
        "*9. Price - Price per night that a rental is charging.*\n",
        "\n",
        "*10. Minimum Nights - For this much of nights minimally rental can be booked.*\n",
        "\n",
        "*11. Number of reviews - Number of reviews a rental has got till now.*\n",
        "\n",
        "*12. Review Per month - An average no. of reviews that a rental got per month.*\n",
        "\n",
        "*13. Last review - Date on which a rental got their last review.*\n",
        "\n",
        "*14. calculated_host_listings_count -  It is the no. of rentals a host is hosting in the dataset.*\n",
        "\n",
        "*15. Availability 365 - It is the no. of days for which a rental is available to book.*\n",
        "\n",
        "*NOTE - I have used the word rentals, listings and hostings interchangably here. All of these means the same.*"
      ]
    },
    {
      "cell_type": "code",
      "execution_count": null,
      "metadata": {
        "id": "XzN212LUSx3P"
      },
      "outputs": [],
      "source": [
        "#----------------------Block 3----------------------------------\n",
        "\n",
        "#getting basic information about dataset\n",
        "airbnbNY_data.info()"
      ]
    },
    {
      "cell_type": "markdown",
      "metadata": {
        "id": "3R6miKMAQwia"
      },
      "source": [
        "*Outcomes*\n",
        "\n",
        "*1. Dataype of each columns*\n",
        "\n",
        "*2. Memory usage due to dataset*\n",
        "\n",
        "*3. Number of non null values in each columns*\n"
      ]
    },
    {
      "cell_type": "code",
      "execution_count": null,
      "metadata": {
        "id": "RlYK1p6vS15M"
      },
      "outputs": [],
      "source": [
        "#----------------------Block 4----------------------------------\n",
        "\n",
        "# getting count of each null values in each column\n",
        "airbnbNY_data.isnull().sum()"
      ]
    },
    {
      "cell_type": "markdown",
      "metadata": {
        "id": "yuHSRWTpReJL"
      },
      "source": [
        "*1. Although Name and Host name has null values but it won't be of significant use in our analysis, we won't be caring much about it.*\n",
        "\n",
        "*2. Last review and review per month both have same number of null values. Actual reason is they are interdependent. Last_review includes a date of last review of specific listing. If it is null that means listing hasn't got any reviews yet and for the same reason review per month is also null.*\n",
        "\n",
        "*3. If you look for the observations having review_per_month and last_review as null values, logiclly no. of reviews value should be zero there. So, lets verify this.* \n",
        "\n"
      ]
    },
    {
      "cell_type": "code",
      "execution_count": null,
      "metadata": {
        "id": "JIuCzaFgS30z"
      },
      "outputs": [],
      "source": [
        "#----------------------Block 5----------------------------------\n",
        "\n",
        "# checking for number_of_review unique values where we have null values for last_review and review_per_month \n",
        "airbnbNY_data[airbnbNY_data['last_review'].isnull() & airbnbNY_data['reviews_per_month'].isnull()]['number_of_reviews'].value_counts()"
      ]
    },
    {
      "cell_type": "markdown",
      "metadata": {
        "id": "Y6OmU92-kdlD"
      },
      "source": [
        "*We will delete the last review column from dataframe as that is not much useful in terms of further data analysis make reviews_per_ month  0 where reviews_per_month is Null.*"
      ]
    },
    {
      "cell_type": "code",
      "execution_count": null,
      "metadata": {
        "id": "evL-PSd_i67x"
      },
      "outputs": [],
      "source": [
        "#----------------------Block 6----------------------------------\n",
        "\n",
        "airbnbNY_data.drop(['last_review'],axis = 1, inplace = True)   # dropping last review column\n",
        "airbnbNY_data['reviews_per_month'].fillna(0,inplace=True)    #filling null values with 0 in reviews_per_month column"
      ]
    },
    {
      "cell_type": "markdown",
      "metadata": {
        "id": "G0y1kVPv4HVe"
      },
      "source": [
        "*Name of hotel is also not of a significant use to us so we'll drop that as well*"
      ]
    },
    {
      "cell_type": "code",
      "execution_count": null,
      "metadata": {
        "id": "DjJL83L14eeP"
      },
      "outputs": [],
      "source": [
        "#----------------------Block 7----------------------------------\n",
        "\n",
        "airbnbNY_data.drop(['name'],axis = 1, inplace = True)   # dropping name column\n",
        "airbnbNY_data.drop(['host_name'],axis = 1, inplace = True)   # dropping host_name column"
      ]
    },
    {
      "cell_type": "code",
      "execution_count": null,
      "metadata": {
        "id": "BsOGmrb54mya"
      },
      "outputs": [],
      "source": [
        "#----------------------Block 8----------------------------------\n",
        "\n",
        "#null values check\n",
        "airbnbNY_data.isnull().sum()"
      ]
    },
    {
      "cell_type": "markdown",
      "metadata": {
        "id": "WBvRzS-o5Ozj"
      },
      "source": [
        "*We have treated null values and dropped all unneccesary columns as well .*"
      ]
    },
    {
      "cell_type": "code",
      "execution_count": null,
      "metadata": {
        "id": "lsp0fZ6UVG58"
      },
      "outputs": [],
      "source": [
        "#----------------------Block 9----------------------------------\n",
        "\n",
        "#checking for descriptive summary of data\n",
        "airbnbNY_data.drop(['id','host_id','latitude','longitude'], axis =1).describe()"
      ]
    },
    {
      "cell_type": "markdown",
      "metadata": {
        "id": "5xRFMcszeUkH"
      },
      "source": [
        "*Descriptive table tells us that except availability 365, all other features has some serious outliers.*\n",
        "\n",
        "*As a part of this project we are only performing EDA .So there might not be a need of outlier treatment but in some specific cases outliers affects our EDA task as well. So we'll look for temporary treatment at that point.*\n"
      ]
    },
    {
      "cell_type": "markdown",
      "metadata": {
        "id": "OHR2xLWh8RxL"
      },
      "source": [
        "# ***Part 2: Feature analysis and engineering***"
      ]
    },
    {
      "cell_type": "markdown",
      "metadata": {
        "id": "hy23Hf2U8cTF"
      },
      "source": [
        "##***1 .Visualising and analysing about different areas(neighbourhood and boroughs)***"
      ]
    },
    {
      "cell_type": "code",
      "execution_count": null,
      "metadata": {
        "id": "kCKPcObq17oP"
      },
      "outputs": [],
      "source": [
        "#----------------------Block 10----------------------------------\n",
        "\n",
        "# unique categories in neighbourhood_group\n",
        "airbnbNY_data['neighbourhood_group'].unique()"
      ]
    },
    {
      "cell_type": "markdown",
      "metadata": {
        "id": "iJJvGaPo2K96"
      },
      "source": [
        "*1. There are total of 5 neighbourhood groups.*\n",
        "\n",
        "\n",
        "*2. In New York whole New York city has been divided in these(neighbourhood_group) five adminstrative region and these are called borough there. So we will rename the neighbourhood_group columns to borough for better comprehensiveness.*\n"
      ]
    },
    {
      "cell_type": "code",
      "execution_count": null,
      "metadata": {
        "id": "37Zzwojl22C6"
      },
      "outputs": [],
      "source": [
        "#----------------------Block 11----------------------------------\n",
        "\n",
        "airbnbNY_data.rename(columns={'neighbourhood_group':'borough'}, inplace=True) # renaming neighbourhood group column to borough"
      ]
    },
    {
      "cell_type": "code",
      "execution_count": null,
      "metadata": {
        "id": "v_E1vXV0jECI"
      },
      "outputs": [],
      "source": [
        "#----------------------Block 12----------------------------------\n",
        "\n",
        "\n",
        "airbnbNY_data.head()  # data check for column rename "
      ]
    },
    {
      "cell_type": "markdown",
      "metadata": {
        "id": "MjGvXAaU4Vyh"
      },
      "source": [
        "###**Let's look into how hosting is divided among these boroughs**"
      ]
    },
    {
      "cell_type": "code",
      "execution_count": null,
      "metadata": {
        "id": "VCCs7PTRG0lL"
      },
      "outputs": [],
      "source": [
        "#----------------------Block 13----------------------------------\n",
        "\n",
        "#checking for the observations under each borough\n",
        "borough_hositing = airbnbNY_data['borough'].value_counts().sort_values(ascending=False)\n",
        "borough_hositing"
      ]
    },
    {
      "cell_type": "code",
      "execution_count": null,
      "metadata": {
        "id": "RkLK0wJAHhCm"
      },
      "outputs": [],
      "source": [
        "#----------------------Block 14----------------------------------\n",
        "\n",
        "#plotting the above found details\n",
        "fig,axes= plt.subplots(1,2,figsize=(16,6))  #defining figure and initialising axes \n",
        "borough_hositing.plot.pie(autopct = '%1.2f%%', ax = axes[0]) #pie plot in axes[0]\n",
        "axes[0].set_title('Percentage split of hostings \\n among each borough')  # title for pie plot\n",
        "axes[0].legend()  #to get legends\n",
        "borough_hositing.plot.bar(ax = axes[1],color=['blue','orange','green','red','purple'])  #bar plot in axes[1]\n",
        "axes[1].set_title('Number of hostings among different boroughs')  # title for bar plot\n",
        "axes[1].set(ylabel='No. of hostings', xlabel='Boroughs')   # labelling y and x axis\n",
        "fig.tight_layout() #for creating proper spacing and arrangement among different figures on canvas"
      ]
    },
    {
      "cell_type": "markdown",
      "metadata": {
        "id": "HU8OidukLRmn"
      },
      "source": [
        "*From above charts we can see that major no. of hostings are from Brooklyn and Manhattan from this listing of airbnb New York city whereas Staten Island and Bronx are way too less populous in terms of hostings.*\n",
        "\n",
        "*Actually Manhattan is one of  the most attracted tourism borough in New York called to be as a heart of New York city and Brooklyn follows after Manhattan and also it is most populous borough that is one of the strong reason for Brooklyn and Manhattan to be dominating in terms of hostings.* \n"
      ]
    },
    {
      "cell_type": "markdown",
      "metadata": {
        "id": "2koBHFHS1Kup"
      },
      "source": [
        "###**Checking for some of the top neighbourhoods and to which borough they belong**\n",
        "\n",
        "\n",
        "\n",
        "\n",
        "*Note : We are qualifying neighbourhood as top on the basis of number of hostings.*\n",
        "\n"
      ]
    },
    {
      "cell_type": "code",
      "execution_count": null,
      "metadata": {
        "id": "mIEZsnXP1ZJb"
      },
      "outputs": [],
      "source": [
        "#----------------------Block 15----------------------------------\n",
        "\n",
        "#grouping observation on borough and then on neighbourhood and then picking up their count to find no. of hostings in different neighbourhoods\n",
        "top_20_neighbourhood = airbnbNY_data.groupby(['borough','neighbourhood']).agg({'id':\n",
        "                                            'count'}).sort_values(by='id',ascending=False)[0:20].reset_index()  #picking top 20 neighbourhoods\n",
        "top_20_neighbourhood.rename(columns={'id':'num of hostings'},inplace=True)  #renaming column 'id' to 'num of hostings'\n",
        "top_20_neighbourhood"
      ]
    },
    {
      "cell_type": "code",
      "execution_count": null,
      "metadata": {
        "id": "RwbDDRDn2EQ7"
      },
      "outputs": [],
      "source": [
        "#----------------------Block 16----------------------------------\n",
        "\n",
        "#visualising Block 15\n",
        "plt.figure(figsize=(15,7))  #defining figure\n",
        "from matplotlib.lines import Line2D  #importing Line2D\n",
        "borough_dict = {} #initialising an empty dictionary to store the colour representation of boroughs\n",
        "unique_borough = set(list(top_20_neighbourhood['borough']))  #storing unique boroughs of top_20_neighbourhood in unique_borough\n",
        "borough_list = list(top_20_neighbourhood['borough'])  #storing boroughs of top_20_neighbourhood in the form of list \n",
        "color_list=[]  #initialising an empty list for storing the colour of each bar in bar plot\n",
        "color=['darkslategray','teal','darkturquoise']\n",
        "index=0\n",
        "for borough in unique_borough:\n",
        "  borough_dict[borough] =color[index]  #assigning unique colour that represents each borough\n",
        "  index=index+1\n",
        "for borough in borough_list:   \n",
        "       color_list.append(borough_dict[borough])  #storing the colour of each bar of bar plot in color_list\n",
        "plt.bar(top_20_neighbourhood['neighbourhood'],top_20_neighbourhood['num of hostings'],color=color_list)  #plotting a bar plot\n",
        "#creating a custom labels for a graph\n",
        "labels = list(borough_dict.keys())\n",
        "custom_lines = [Line2D([1,2,5,5], [1,2,5,5], color='darkslategray', lw=4),\n",
        "                Line2D([1,2,5,5], [1,2,5,5], color='teal', lw=4),\n",
        "                Line2D([1,2,5,5], [1,2,5,5], color='darkturquoise', lw=4)]\n",
        "plt.xticks(rotation = 90)  #to rotate x-ticks by 90 degree\n",
        "plt.legend(custom_lines,labels)  #to get legends in graph\n",
        "plt.xlabel('neighbourhood',fontsize=13)\n",
        "plt.ylabel('Number of hosts',fontsize=13)\n",
        "plt.title(\"Top 20 neighbourhoods in terms of number of hostings\",fontsize=15)\n",
        "plt.show()"
      ]
    },
    {
      "cell_type": "markdown",
      "metadata": {
        "id": "UxqeDuAf2qR1"
      },
      "source": [
        "*From the above graph we can see that :*\n",
        "\n",
        "* Among top 20 neighbourhoods most of these neighbourhood belongs to Manhattan borough.\n",
        "*Although If looking for top 3 densely hosted neighbourhood top 2 belongs to Brooklyn."
      ]
    },
    {
      "cell_type": "code",
      "source": [
        "len(airbnbNY_data[airbnbNY_data['calculated_host_listings_count']<8])"
      ],
      "metadata": {
        "id": "CG21YjQBNyks"
      },
      "execution_count": null,
      "outputs": []
    },
    {
      "cell_type": "markdown",
      "metadata": {
        "id": "J9WtOOV7OrfB"
      },
      "source": [
        "###**Neighbourhoods each borough have**"
      ]
    },
    {
      "cell_type": "code",
      "execution_count": null,
      "metadata": {
        "id": "9JhD4v4LOxfi"
      },
      "outputs": [],
      "source": [
        "#----------------------Block 17----------------------------------\n",
        "\n",
        "fig = plt.figure(figsize=(10,6))  #defining figure\n",
        "ngbrhood = airbnbNY_data.groupby('borough')['neighbourhood'].nunique().sort_values(ascending=False)  #number of unique neighbourhoods in each borough\n",
        "ngbrhood.plot.bar(color='orange')  #bar plot representing no. of neighbourhoods in each borough\n",
        "plt.ylabel('No. of neighbourhoods')\n",
        "plt.title('Number of neighbourhoods in each borough',fontsize=15)\n",
        "for ind, val in enumerate(ngbrhood):\n",
        "  plt.text(x = ind, y =val+1, s = str(val))  #to get text over bars"
      ]
    },
    {
      "cell_type": "markdown",
      "metadata": {
        "id": "B8SAV391UL8S"
      },
      "source": [
        "*Although Mahnhattan and Brooklyn have most no. of hostings but in terms of neighbourhood they are quite back.*\n",
        "\n",
        "*Reason for it can be Manhattan and Brooklyn have most tourist places and many hostings has been bunched around under same neigbourhood. Thus having most hostings without having much of neighbourhoods.*"
      ]
    },
    {
      "cell_type": "markdown",
      "metadata": {
        "id": "uX-Vzw98Vr-m"
      },
      "source": [
        "###**Lets look for the price distribution in each boroughs**"
      ]
    },
    {
      "cell_type": "code",
      "execution_count": null,
      "metadata": {
        "id": "2Bce7OmqV0jT"
      },
      "outputs": [],
      "source": [
        "#----------------------Block 18----------------------------------\n",
        "\n",
        "boroughs = set(list(airbnbNY_data['borough']))  #storing distinct boroughs\n",
        "for borough in boroughs:\n",
        "  fig = plt.figure(figsize=(5,5))\n",
        "  axs = fig.gca()  #gca--> get current axis\n",
        "  price_dist = list(airbnbNY_data[airbnbNY_data['borough']== borough]['price'])  #list of price for each borough\n",
        "  price_dist = [price for price in price_dist if ((price < 600) and (price>0))]  #Limiting price value to 600 to avoid outliers that limits our visualisation\n",
        "  axs.set_title(borough)\n",
        "  sns.distplot(price_dist, ax=axs,color='green')  #price distribution across each borough"
      ]
    },
    {
      "cell_type": "markdown",
      "metadata": {
        "id": "GLVz2kxoaqj-"
      },
      "source": [
        "*Note as told earlier, as needed here, we have done an outlier treatment.*\n",
        "\n",
        "*Even after removing outliers still the data is bit skewed. We can further decrease the threshold of price also.*\n",
        "\n",
        "*Starting price ranges are nearly same for each boroughs and they are starting from as low as to somewhere 10 dollars and most of them are ending at 200 with few rentals having price greater than 200.In which manhattan has max number of rentals with price greater than 200*\n",
        "\n",
        "*Note : Prices are heavily influenced by the outliers .I have set an threshold of price 600 in order to avoid outlier so that we can visualize the range better.*"
      ]
    },
    {
      "cell_type": "markdown",
      "metadata": {
        "id": "UaoLf-TzDaws"
      },
      "source": [
        "###**Let's check how does an average price varies in each borough**"
      ]
    },
    {
      "cell_type": "code",
      "execution_count": null,
      "metadata": {
        "id": "Iz67aL3h2Occ"
      },
      "outputs": [],
      "source": [
        "#----------------------Block 19----------------------------------\n",
        "\n",
        "fig= plt.figure(figsize=(10,6))\n",
        "axes = fig.gca()\n",
        "avgprice_df = airbnbNY_data[airbnbNY_data['price']<600]  #creating sub dataframe with price less than 600\n",
        "#grouping by borough and averaging out by price to find average price across each borough\n",
        "avgprice_borough = avgprice_df.groupby('borough').agg({'price':'mean'}).sort_values(by='price',ascending = False)\n",
        "avgprice_borough.plot.bar(ax = axes)  #bar plot represeting average price across each borough\n",
        "plt.title('Average Pricing in each borough',fontsize=15)\n",
        "avgprice = list(np.around(avgprice_borough.values.reshape(5,))) #rounding up and storing average price of each borough in a list\n",
        "axes.set_ylabel('average price')\n",
        "for ind, val in enumerate(avgprice):\n",
        "  axes.text(x = ind, y =val+3, s = str(val))  #to put text over bars"
      ]
    },
    {
      "cell_type": "markdown",
      "metadata": {
        "id": "AxOCeeUPJTEt"
      },
      "source": [
        "* Manhattan is one of the borough that charges quite high for hostings followed by Brooklyn.\n",
        "\n",
        "* Manhattan include most of the tourist places including Times Squares, etc that can be the reason of this price hikes.\n",
        "\n",
        "*Note - Please note that I have taking a threshold of 600 here as well because we know that average is heavily affected by outliers* \n"
      ]
    },
    {
      "cell_type": "markdown",
      "metadata": {
        "id": "7cH6wYUHLOR4"
      },
      "source": [
        "###**Let's check the same in terms of price for each neighbourhood**"
      ]
    },
    {
      "cell_type": "code",
      "execution_count": null,
      "metadata": {
        "id": "-gPhtoEmEI0P"
      },
      "outputs": [],
      "source": [
        "#----------------------Block 20----------------------------------\n",
        "\n",
        "#Seperating out the top 10 neighbourhoods with highest average charges\n",
        "avgprice_neighbourhood = airbnbNY_data.groupby(['borough','neighbourhood']).agg({'price':'mean'}).reset_index().sort_values(by='price',ascending=False)[0:10]\n",
        "plt.figure(figsize=(15,6))\n",
        "borough_dict = {}   #dictionary to store unique borough and color label associated with it \n",
        "unique_borough = set(list(avgprice_neighbourhood['borough']))  #seperating out the unique borough names from sub dataframe\n",
        "borough_list = list(avgprice_neighbourhood['borough'])  #listing out all observations boroughs from sub dataframe\n",
        "color_list=[]  #list to store the color associated with bar plots\n",
        "color=['bisque','cyan','pink','lavender','red']\n",
        "index=0 \n",
        "for borough in unique_borough:\n",
        "  borough_dict[borough] =color[index]  #assigning key value pair in borough_dict with keys as borough of unique_borough and values as colours of color list \n",
        "  index=index+1\n",
        "for borough in borough_list:   \n",
        "       color_list.append(borough_dict[borough])  \n",
        "plt.bar(avgprice_neighbourhood['neighbourhood'],avgprice_neighbourhood['price'],color=color_list)  #bar plot representing top 10 average price neighbourhoods\n",
        "labels = list(borough_dict.keys())\n",
        "custom_lines = [Line2D([0], [0], color='bisque', lw=4),  # custom limes for label of bar graph \n",
        "                Line2D([0], [0], color='cyan', lw=4),\n",
        "                Line2D([0], [0], color='pink', lw=4),\n",
        "                Line2D([0], [0], color='lavender', lw=4),\n",
        "                Line2D([0], [0], color='red', lw=4)]\n",
        "plt.xticks(rotation = 90)\n",
        "plt.legend(custom_lines,labels)\n",
        "plt.xlabel('neighbourhood',fontsize=13)\n",
        "plt.ylabel('Average Price',fontsize=13)\n",
        "plt.title(\"10 Neighbourhoods having highest average prices\",fontsize=15)\n",
        "plt.show()"
      ]
    },
    {
      "cell_type": "markdown",
      "metadata": {
        "id": "iKACOXzFi479"
      },
      "source": [
        "*Staten Islands neighbourhoods seems to have some of the top chargable rentals and Manhattan follows them. Although from our previous analysis it seems that Manhattan is one of the expensive borough but still We have to investigate it a bit further as this might be the result of strong outliers as well. So lets visualize box plots for these 10 neighbourhoods to know if they actually have a higher prices or its just some strong outliers.*"
      ]
    },
    {
      "cell_type": "code",
      "execution_count": null,
      "metadata": {
        "id": "dYyMx_tjJ1wg"
      },
      "outputs": [],
      "source": [
        "#----------------------Block 21----------------------------------\n",
        "\n",
        "# nghbrhood function to segregate the dataframe only for top 10 neighbourhoods\n",
        "def nghbrhood(col):\n",
        "  if col in neighbourhood_lst:\n",
        "    return True\n",
        "  else:\n",
        "    return False"
      ]
    },
    {
      "cell_type": "code",
      "execution_count": null,
      "metadata": {
        "id": "imiVfOEekt-_"
      },
      "outputs": [],
      "source": [
        "#----------------------Block 22----------------------------------\n",
        "\n",
        "neighbourhood_lst = list(avgprice_neighbourhood['neighbourhood'])  #storing list of top 10 neighbourhoods\n",
        "plt.figure(figsize=(15,8))\n",
        "df_nghbrhoodprice = airbnbNY_data[airbnbNY_data['neighbourhood'].apply(nghbrhood)]  #applying above defined function \n",
        "sns.boxplot(x='neighbourhood',y='price', data = df_nghbrhoodprice )  #boxplot showing price distribution across each of top 10 neighbourhoods\n",
        "plt.title('Price distribution in top 10 neighbourhoods',fontsize=15)\n",
        "plt.show()"
      ]
    },
    {
      "cell_type": "markdown",
      "metadata": {
        "id": "qPA6RPJrqLSb"
      },
      "source": [
        "*So as thought it seems that Fort Wadsworth and Woodrow doesn't have multiple entries they both only have one listing, Fort Wadsworth with price nearby 800 and Woodsrow having a price nearby 700.*\n",
        "\n",
        "*Whereas Tribeca, Flatiron district and battery park city is heavily influenced by the outliers.*\n",
        "\n",
        "*Prince's bay and River Dales are the ones that doesn't seems to be affected by the outlier and in general have higher prices.*\n",
        "\n",
        "*Lets see if we try with the threshold price of 600 how does result varies.*"
      ]
    },
    {
      "cell_type": "code",
      "execution_count": null,
      "metadata": {
        "id": "18unz6abrovU"
      },
      "outputs": [],
      "source": [
        "#----------------------Block 23----------------------------------\n",
        "\n",
        "#Seperating out the top 10 neighbourhoods with highest average charges with price threshold 600\n",
        "avgprice_neighbourhood = avgprice_df.groupby(['borough','neighbourhood']).agg({'price':'mean'}).reset_index().sort_values(by='price',\n",
        "ascending=False)[0:10]\n",
        "plt.figure(figsize=(15,6))\n",
        "borough_dict = {}   #dictionary to store unique borough and color label associated with it \n",
        "unique_borough = set(list(avgprice_neighbourhood['borough']))  #seperating out the unique borough names from sub dataframe\n",
        "borough_list = list(avgprice_neighbourhood['borough'])  #listing out all observations boroughs from sub dataframe\n",
        "color_list=[]  #list to store the color associated with bar plots\n",
        "color=['bisque','cyan','pink','blue','red']\n",
        "index=0\n",
        "for borough in unique_borough:\n",
        "  borough_dict[borough] =color[index]  #assigning key value pair in borough_dict with keys as borough of unique_borough and values as colours of color list \n",
        "  index=index+1\n",
        "for borough in borough_list:   \n",
        "       color_list.append(borough_dict[borough])\n",
        "plt.bar(avgprice_neighbourhood['neighbourhood'],avgprice_neighbourhood['price'],color=color_list)\n",
        "labels = list(borough_dict.keys())\n",
        "custom_lines = [Line2D([0], [0], color='bisque', lw=4),  # custom limes for label of bar graph \n",
        "                Line2D([0], [0], color='cyan', lw=4),\n",
        "                Line2D([0], [0], color='pink', lw=4),\n",
        "                Line2D([0], [0], color='blue', lw=4),\n",
        "                Line2D([0], [0], color='red', lw=4)]\n",
        "plt.xticks(rotation = 90)\n",
        "plt.legend(custom_lines,labels)\n",
        "plt.xlabel('neighbourhood',fontsize=13)\n",
        "plt.ylabel('Average Price',fontsize=13)\n",
        "plt.title(\"10 Neighbourhoods having highest average prices\",fontsize=15)\n",
        "plt.show()"
      ]
    },
    {
      "cell_type": "code",
      "execution_count": null,
      "metadata": {
        "id": "ROC9V-pTr_r8"
      },
      "outputs": [],
      "source": [
        "#----------------------Block 24----------------------------------\n",
        "\n",
        "neighbourhood_lst = list(avgprice_neighbourhood['neighbourhood'])  #storing list of top 10 neighbourhoods\n",
        "plt.figure(figsize=(15,8))\n",
        "df_nghbrhoodprice = avgprice_df[avgprice_df['neighbourhood'].apply(nghbrhood)]  #applying defined function in Block21\n",
        "sns.boxplot(x='neighbourhood',y='price', hue='borough',data = df_nghbrhoodprice)  #boxplot showing price distribution across each of top 10 neighbourhoods\n",
        "plt.title('Price distribution in top 10 neighbourhoods',fontsize=15) #adding title to the plot\n",
        "plt.show()"
      ]
    },
    {
      "cell_type": "markdown",
      "metadata": {
        "id": "9eAbiu0RxO2d"
      },
      "source": [
        "*As we have changed a price threshold to 600 picture changes pretty much thus these neighhbourhood prices are influenced by outliers. You can also try changing multiple threshold and can visualize how the graph and neighbourhood changes* \n",
        "\n",
        "*We can see, most of the top 10 neighbourhoods belongs to Manhattan*"
      ]
    },
    {
      "cell_type": "markdown",
      "metadata": {
        "id": "og3TJmGzrnbI"
      },
      "source": [
        "###**We have played pretty much along with area and collected an info :**\n",
        "\n",
        "\n",
        "*1. Among all 5 boroughs Manhattans and Brooklyn are the ones who have most rentals. Manhattan is the most famous tourism borough and that is one of the reasons for most rentals.*\n",
        "\n",
        "*2. Although Manhattan dominates in no. of hostings but neighbourhoods of Brooklyn dominates on first 2 positions in among top 20 neighbourhoods. Still if we quantify the result than we see we have most number of Manhattan neighbourhoods tooks a place among top 20 neighbourhood.*\n",
        "\n",
        "*3. Williamsburg is a hip neighbourhood in Brooklyn that is famous for trendy cafes and buzzy restaurants. Street art brightens residential thoroughfares and repurposed factories, while the waterfront provides stunning views of Manhattan and seasonal venues for outdoor concerts and food markets.*\n",
        "\n",
        "*4.Number of neighbourhood is highest in Queens and lowest in Manhattan still Manhattan has most no. of rentals.*\n",
        "\n",
        "*5. Due to this tourism factor average price of rentals is higher in Manhattan and after Manhattan Brooklyn follows it.*\n",
        "\n",
        "*6. Price data contains too many outliers, mostly the price of hotel saturates at max near 200-300 Dollar but we have some rentals charging as high as 10000 Dollar. Thus creating a bias in average prices. We have tried to visualize the price data among different neighbourhoods and in that case also after outlier treatment out of top higest pricing neighbourhood 7 belongs to Manhattan.*\n"
      ]
    },
    {
      "cell_type": "markdown",
      "metadata": {
        "id": "fWi-17M2rw7x"
      },
      "source": [
        "## ***2. Visualising and analysing about different room types***"
      ]
    },
    {
      "cell_type": "code",
      "execution_count": null,
      "metadata": {
        "id": "GOq4jS2tonnm"
      },
      "outputs": [],
      "source": [
        "#----------------------Block 25----------------------------------\n",
        "\n",
        "#unique room_type values \n",
        "airbnbNY_data['room_type'].unique()"
      ]
    },
    {
      "cell_type": "markdown",
      "source": [
        "###**Lets check the room type feature**"
      ],
      "metadata": {
        "id": "OHng0TcJ5EZy"
      }
    },
    {
      "cell_type": "code",
      "execution_count": null,
      "metadata": {
        "id": "mS1DtwhYwLwS"
      },
      "outputs": [],
      "source": [
        "#----------------------Block 26----------------------------------\n",
        "\n",
        "plt.rcParams['figure.figsize']=(10,6)  #defining figure\n",
        "airbnbNY_data['room_type'].value_counts().plot.bar()  #bar plot representing counts of each room type\n",
        "plt.title('Number of each roomtype rentals in a dataset',fontsize=15)\n",
        "plt.xlabel('Room_type',fontsize=13)\n",
        "plt.ylabel('counts',fontsize=13)\n",
        "plt.show()"
      ]
    },
    {
      "cell_type": "markdown",
      "metadata": {
        "id": "H0pa3LPF7MzG"
      },
      "source": [
        "*Mostly rentals are there for entire home or private rooms and just very few in case of shared room. Shared room might be not much prefered by visitiors.*"
      ]
    },
    {
      "cell_type": "markdown",
      "source": [
        "###**Lets check how room types are divided in each borough**"
      ],
      "metadata": {
        "id": "IfpLkbbokxEQ"
      }
    },
    {
      "cell_type": "code",
      "execution_count": null,
      "metadata": {
        "id": "eINkjBw04KT3"
      },
      "outputs": [],
      "source": [
        "#----------------------Block 27----------------------------------\n",
        "\n",
        "#looking how room_types are divided in each borough\n",
        "roomtype_in_borough = airbnbNY_data.groupby(['borough','room_type']).agg({'room_type':'count'}) \n",
        "roomtype_in_borough = roomtype_in_borough.unstack()  #to change wide table to a long table\n",
        "roomtype_in_borough"
      ]
    },
    {
      "cell_type": "code",
      "source": [
        "#----------------------Block 28----------------------------------\n",
        "\n",
        "roomtype_in_borough.columns  #checking for columns of above dataframe"
      ],
      "metadata": {
        "id": "K6SvMupAHXHW"
      },
      "execution_count": null,
      "outputs": []
    },
    {
      "cell_type": "code",
      "execution_count": null,
      "metadata": {
        "id": "GDBqpNqo9Zsg"
      },
      "outputs": [],
      "source": [
        "#----------------------Block 29----------------------------------\n",
        "\n",
        "#plotting the pie charts for each borough to get the percentage split visualization of different room types \n",
        "plt.rcParams['figure.figsize'] = (8, 15)  #defining figure\n",
        "fig, axes = plt.subplots(3,2)  #creating figure and multiple axes(3*2=6)\n",
        "fig.suptitle('Percentage split of each room type in each borough')  #to give a main title for all plots of 6 axes\n",
        "label=[]\n",
        "k=0\n",
        "for i in range(3):\n",
        "  label.append(roomtype_in_borough.columns[i][1])  #storing different room types in the list\n",
        "for i in range(3):\n",
        "  for j in range(2):\n",
        "    if i == 2 and j==1:\n",
        "      break\n",
        "    axes[i,j].pie(roomtype_in_borough.iloc[k],labels=label, autopct='%1.1f%%',radius=1)  #plotting pie chart for each borough in different axes\n",
        "    axes[i,j].set_title(list(roomtype_in_borough.index)[k])  #setting title as the name of borough for each pie plot \n",
        "    k=k+1\n",
        "plt.figlegend(label)  #to place a legend(room type) in the figure\n",
        "axes[2][1].set_axis_off()  #to turn off the axes[2][1]\n"
      ]
    },
    {
      "cell_type": "markdown",
      "metadata": {
        "id": "-DBsug0a99EC"
      },
      "source": [
        "*In each borough shared room is very negligent.*\n",
        "\n",
        "*One thing noticable is that among all boroughs only Manhattan has more number of entire home than private rooms. Other than Manhattan in each borough private room takes up that place.*"
      ]
    },
    {
      "cell_type": "markdown",
      "metadata": {
        "id": "KyzNK4RY_o9K"
      },
      "source": [
        "###**Lets check on how does prices distributed among these room types**"
      ]
    },
    {
      "cell_type": "code",
      "execution_count": null,
      "metadata": {
        "id": "JGsUfEVO9kMC"
      },
      "outputs": [],
      "source": [
        "#----------------------Block 30----------------------------------\n",
        "\n",
        "plt.rcParams['figure.figsize'] = (8, 6)\n",
        "sns.boxplot(x='room_type', y='price', data = airbnbNY_data)  #box plot showing distribution of price for each room type\n",
        "plt.title('Box plot for the prices of room type',fontsize=15)\n",
        "plt.show()"
      ]
    },
    {
      "cell_type": "markdown",
      "metadata": {
        "id": "_OMcpJDFBGeY"
      },
      "source": [
        "*Prices for each room type is strongly influenced by the outliers.*\n",
        "\n",
        "*For each roomtype maximum price saturates at nearby 300-400 and above that mostly are outliers.*"
      ]
    },
    {
      "cell_type": "code",
      "execution_count": null,
      "metadata": {
        "id": "6f1BuRXiAu-k"
      },
      "outputs": [],
      "source": [
        "#----------------------Block 31----------------------------------\n",
        "\n",
        "price_df = airbnbNY_data[airbnbNY_data['price']<600] #sub dataframe to treat outliers\n",
        "sns.boxplot(x='room_type', y='price', data = price_df) \n",
        "plt.title('Box plot for the prices of room type after treating outliers',fontsize=15)\n",
        "plt.show()"
      ]
    },
    {
      "cell_type": "markdown",
      "metadata": {
        "id": "UQvwPcJiCQrD"
      },
      "source": [
        "*Note :  Although we have removed whole lot outliers but some are still there.*\n",
        "\n",
        "*For entire apartments price range is varying till 370 approx and a median or an average value somewhere lies nearby 140-150.*\n",
        "\n",
        "*For private room price range is varying till 160-170 approx rest are still  outliers and a median or an average value somewhere lies nearby 70-80.*\n",
        "\n",
        "*For shared rooms price range is varying till 120 approx and a median or an average value somewhere lies nearby 40-50.*\n"
      ]
    },
    {
      "cell_type": "markdown",
      "metadata": {
        "id": "_reG_I9wDTFd"
      },
      "source": [
        "###**Now lets see whether every borough have a nearby same average price range or it differs**"
      ]
    },
    {
      "cell_type": "code",
      "execution_count": null,
      "metadata": {
        "id": "7d4MDo2EB1HQ"
      },
      "outputs": [],
      "source": [
        "#----------------------Block 32----------------------------------\n",
        "\n",
        "#average price of each roomtype in each borough\n",
        "#taken a subdataframe with removed outliers so that outliers doesn't affect the average price much \n",
        "average_price = price_df.groupby(['borough','room_type']).agg({'price':'mean'}).reset_index() \n",
        "average_price"
      ]
    },
    {
      "cell_type": "code",
      "execution_count": null,
      "metadata": {
        "id": "ugUwxCmDDvmp"
      },
      "outputs": [],
      "source": [
        "#----------------------Block 33----------------------------------\n",
        "\n",
        "#visualising Block 32\n",
        "plt.figure(figsize=(20,8))\n",
        "#to create a Sub dataframe from average price dataframe where room type is entire room\n",
        "entire_home = average_price[average_price['room_type']=='Entire home/apt']\n",
        "#to create a Sub dataframe from average price dataframe where room type is private room\n",
        "private_room = average_price[average_price['room_type']=='Private room']\n",
        "#to create a Sub dataframe from average price dataframe where room type is shared room\n",
        "shared_room =  average_price[average_price['room_type']=='Shared room'] \n",
        "x_axis=np.arange(len(entire_home['borough']))  #to get evenly spaced values within range of len(entire_home['borough'])\n",
        "plt.bar(x_axis-0.3,entire_home['price'],label ='Entire Home',color='wheat',width=0.3)  #to get first bar stick of group of three bars\n",
        "plt.bar(x_axis,private_room['price'],label ='Private Room',color='goldenrod',width=0.3)  #to get second bar stick of group of three bars\n",
        "plt.bar(x_axis+0.3,shared_room['price'],label ='Shared Room',color='gold',width=0.3)  #to get third bar stick of group of three bars\n",
        "plt.legend()  #to place legend in the figure\n",
        "plt.xticks(x_axis,entire_home['borough'])\n",
        "plt.xlabel('Boroughs',fontsize=13)\n",
        "plt.ylabel('Average price',fontsize=13)\n",
        "plt.title(\"Average Price of each room type in each borough\",fontsize=15)\n",
        "plt.show()"
      ]
    },
    {
      "cell_type": "markdown",
      "metadata": {
        "id": "ZXVDI7mrErkO"
      },
      "source": [
        "*Manhattan is leading in a scoreboard of higher prices and Brooklyn follows Manhattan.*\n",
        "\n",
        "*Manhattan and Brooklyn are tourist areas in NYC and as everywhere rule higher the tourism, higher the prices of rentals also applies here.*  "
      ]
    },
    {
      "cell_type": "markdown",
      "metadata": {
        "id": "v_J19YBAN70l"
      },
      "source": [
        "###**Room Type and number of reviews**"
      ]
    },
    {
      "cell_type": "code",
      "execution_count": null,
      "metadata": {
        "id": "kduqQCkeEEoO"
      },
      "outputs": [],
      "source": [
        "#----------------------Block 34----------------------------------\n",
        "\n",
        "#to find no. of reviews for each room type\n",
        "roomtype_reviews = airbnbNY_data.groupby('room_type').agg({'number_of_reviews':'sum'}) #grouping on room type and adding the number of reviews then\n",
        "plt.rcParams['figure.figsize']=(10,6)\n",
        "roomtype_reviews.plot.bar(color='brown')  #bar plot representing no. of reviews for each room type\n",
        "plt.ylabel('Total number of reviews')\n",
        "plt.title('Total number of reviews each room type have',fontsize=15)\n",
        "plt.show()"
      ]
    },
    {
      "cell_type": "markdown",
      "metadata": {
        "id": "A1H6lkjAP79U"
      },
      "source": [
        "*Number of reviews follow the same pattern as of the availabilities of each room type in listings. We have most no. of entire homes in our listings and so do reviews for them are most. It goes in same fashion for private and shared room as well.*  "
      ]
    },
    {
      "cell_type": "markdown",
      "metadata": {
        "id": "gdAKE08gRE1c"
      },
      "source": [
        "###**After analysis of various factors about roomtype we have gathered following info :**\n",
        "\n",
        "*1. Entire homes are one of the most available rental in New York City whereas shared room are very less preferable.* \n",
        "\n",
        "*2. In every borough private rooms are more in counts whereas in Manhattan entire home wins this race.*\n",
        "\n",
        "*3. For entire homes nearby 75% of rentals are under the price of 200 and in private room its somewhere near 100 and for shared ones its 75 somewhere.*\n",
        "\n",
        "*4. Manhattan is most expensive borough in each of the room types, Brooklyn follows Manhattan, then Queens and Staten Island and Bronx are somewhere at same place.*\n",
        "\n"
      ]
    },
    {
      "cell_type": "markdown",
      "metadata": {
        "id": "1l5bvnnMS_o-"
      },
      "source": [
        "##***3. Visualising and analysing about hosts***"
      ]
    },
    {
      "cell_type": "code",
      "execution_count": null,
      "metadata": {
        "id": "6xFyUYboPZBL"
      },
      "outputs": [],
      "source": [
        "#---------------------Block 35----------------------------\n",
        "\n",
        "#Checking for unique values in host id\n",
        "airbnbNY_data['host_id'].nunique()"
      ]
    },
    {
      "cell_type": "markdown",
      "metadata": {
        "id": "qI4OMoI5TRrd"
      },
      "source": [
        "*We have 37457 unique hosts in our data. Rest are duplicates and have appeared multiple times in data.* "
      ]
    },
    {
      "cell_type": "markdown",
      "metadata": {
        "id": "2jfT9QCpXwYl"
      },
      "source": [
        "*Calculated host listing counts means no. of listings specific host have in our data. For example say host id 2009___ something have calculated host listing value 6 then that host id has 6 listings in our data. We'll verify that as well.*"
      ]
    },
    {
      "cell_type": "code",
      "execution_count": null,
      "metadata": {
        "id": "qMcY1GT0T6Bg"
      },
      "outputs": [],
      "source": [
        "#---------------------Block 36----------------------------\n",
        "\n",
        "#sum of unique host listing count for unique host ids\n",
        "x = airbnbNY_data.groupby('host_id').agg({'calculated_host_listings_count':'unique'}).values\n",
        "x=x.reshape(x.shape[0],)\n",
        "sum(list(x))"
      ]
    },
    {
      "cell_type": "code",
      "execution_count": null,
      "metadata": {
        "id": "4xzxevaUVZmi"
      },
      "outputs": [],
      "source": [
        "#---------------------Block 37----------------------------\n",
        "\n",
        "#Just picking up a row to get host_id and its respective host listing counts\n",
        "airbnbNY_data.iloc[0:1]"
      ]
    },
    {
      "cell_type": "markdown",
      "metadata": {
        "id": "WmKHSKjGY78K"
      },
      "source": [
        "*So the host id 2787 has calculated host listing count value as 6. Lets check if thats true.* "
      ]
    },
    {
      "cell_type": "code",
      "execution_count": null,
      "metadata": {
        "id": "r8zc6MUlXFXt"
      },
      "outputs": [],
      "source": [
        "#---------------------Block 38----------------------------\n",
        "\n",
        "#Selecting all the observations with host id 2787\n",
        "airbnbNY_data[airbnbNY_data['host_id']==2787]"
      ]
    },
    {
      "cell_type": "markdown",
      "metadata": {
        "id": "DQ3QGBDTZXh3"
      },
      "source": [
        "*So the host has total of 6 listings in Brooklyn borough.*"
      ]
    },
    {
      "cell_type": "markdown",
      "metadata": {
        "id": "htpA-TH1d4Tp"
      },
      "source": [
        "###**Let's look for some of the top and busiest host in our dataset**\n",
        "\n",
        "*Note : We have considered here the host to be top or busiest if they have more number of rentals.*"
      ]
    },
    {
      "cell_type": "code",
      "execution_count": null,
      "metadata": {
        "id": "xiAGdN4HZO-V"
      },
      "outputs": [],
      "source": [
        "#---------------------Block 39----------------------------\n",
        "\n",
        "#grouping by host_id and then counting the ids to know the no. of times host id has appeared\n",
        "top_host = airbnbNY_data.groupby('host_id').agg({'id':'count'}).sort_values(by = 'id', ascending = False)[0:10] \n",
        "top_host.rename(columns = {'id':'hostings_count'},inplace =True)  #renaming the column 'id' with hosting counts\n",
        "plt.rcParams['figure.figsize']=(10,5)\n",
        "top_host.plot.bar(color='darkseagreen')  #bar plot representing no. of hostings across top 10 hosts\n",
        "plt.ylabel('Number of hostings',fontsize=13)\n",
        "plt.title('Top 10 hosts with most number of hostings',fontsize=15)  #title for bar plot\n",
        "for i,host_count in enumerate(list(top_host['hostings_count'])):\n",
        "  plt.text(x=i, y = host_count+3, s= str(host_count))  #to put text over bar sticks\n"
      ]
    },
    {
      "cell_type": "markdown",
      "metadata": {
        "id": "G0IalYP0mPHm"
      },
      "source": [
        "*There is a steep decrease in each for top 3 host counts and also they have too many hostings in it.* \n",
        "\n",
        "*Now we'll try to dig a bit deep on these hosts*\n"
      ]
    },
    {
      "cell_type": "markdown",
      "metadata": {
        "id": "gZzvgaGeTp-2"
      },
      "source": [
        "###**Lets look for how calculated host listing is distributed**"
      ]
    },
    {
      "cell_type": "code",
      "execution_count": null,
      "metadata": {
        "id": "Klw0pkwSTxJc"
      },
      "outputs": [],
      "source": [
        "#-------------------------block 39-a---------------------------------\n",
        "\n",
        "plt.rcParams['figure.figsize']=(12,8)\n",
        "sns.distplot(airbnbNY_data['calculated_host_listings_count'],color='goldenrod') #distribution plot for calculated host listing count\n",
        "plt.title('Distribution of Host listing count',fontsize=15)\n",
        "plt.show()"
      ]
    },
    {
      "cell_type": "code",
      "execution_count": null,
      "metadata": {
        "id": "vkxbNALJUvRq"
      },
      "outputs": [],
      "source": [
        "#-------------------------block 39-b---------------------------------\n",
        "\n",
        "#distribution plot for calculated host listing count with calculated host listing count<10\n",
        "sns.distplot(airbnbNY_data[airbnbNY_data['calculated_host_listings_count']<10]['calculated_host_listings_count'],color='darkgoldenrod') \n",
        "plt.title('Distribution of Host listing count with host listing count less than 10',fontsize=15)\n",
        "plt.show()"
      ]
    },
    {
      "cell_type": "markdown",
      "metadata": {
        "id": "0Ia0uxw-VOd5"
      },
      "source": [
        "*From above two blocks we came to know that having a host listing counts of 327 or so and even having a host lising count greater than one is rare in our dataset. Most host has only 1 rentals thus a value of calculated host listing count as 1.*"
      ]
    },
    {
      "cell_type": "code",
      "execution_count": null,
      "metadata": {
        "id": "dRjSF77Ieb2e"
      },
      "outputs": [],
      "source": [
        "#---------------------Block 40----------------------------\n",
        "\n",
        "#function to create a sub dataframe only with these top 10 hosts \n",
        "def host_selector(col):\n",
        "  if col in top_host.index:\n",
        "    return True\n",
        "  else:\n",
        "    return False"
      ]
    },
    {
      "cell_type": "code",
      "execution_count": null,
      "metadata": {
        "id": "uEI214m0BUqP"
      },
      "outputs": [],
      "source": [
        "#---------------------Block 41----------------------------\n",
        "\n",
        "#applying previous defined function in block 40 to create a sub dataframe with name tophost_df \n",
        "tophost_df = airbnbNY_data[airbnbNY_data['host_id'].apply(host_selector)]\n",
        "tophost_df['host_id'].value_counts()"
      ]
    },
    {
      "cell_type": "markdown",
      "metadata": {
        "id": "1R6XEJx7EUX2"
      },
      "source": [
        "### **Let's see in which borough/neighbourhood these top 10 hosts have most of their hostings,room type offered by these hosts and price distribution for these hosts**\n"
      ]
    },
    {
      "cell_type": "code",
      "execution_count": null,
      "metadata": {
        "id": "AeC574f2CRzy"
      },
      "outputs": [],
      "source": [
        "#---------------------Block 42----------------------------\n",
        "\n",
        "tophost_df.groupby('host_id')['borough'].value_counts()  #checking for no. of hostings in different boroughs by top 10 hosts"
      ]
    },
    {
      "cell_type": "markdown",
      "metadata": {
        "id": "L7oe-9KLFeZe"
      },
      "source": [
        "*Manhattan is a winning borough in this case if you see, out of the 10 hosts 7 have all their hostings in Manhattan whereas for rest 3 most of their hostings in Manhattan except host id 137358866.*\n",
        "\n"
      ]
    },
    {
      "cell_type": "markdown",
      "metadata": {
        "id": "7XDimodJAyM4"
      },
      "source": [
        "*Now we have seen that most of them belongs to Mahnhattan borough.*\n",
        "\n",
        "**Now lets look for the neighbourhoods that these hosts occupied**"
      ]
    },
    {
      "cell_type": "code",
      "execution_count": null,
      "metadata": {
        "id": "YEjlykg3Dsvv"
      },
      "outputs": [],
      "source": [
        "#---------------------Block 43----------------------------\n",
        "\n",
        "#Checking for no. of hostings in different neighbourhoods by these top 10 hosts\n",
        "tophost_nghbrhood = tophost_df.groupby(['borough','neighbourhood']).agg({'id':'count'}).sort_values(by = 'id',ascending =False).reset_index()\n",
        "tophost_nghbrhood.rename(columns={'id':'count'}, inplace = True)  #renaming the column names\n",
        "unique_borough= set(list(tophost_nghbrhood['borough']))  #to store unique boroughs of tophost_nghbrhood dataframe\n",
        "borough_dict ={}  #initialising an empty dictionary\n",
        "index = 0 \n",
        "color = ['cyan','purple','red','orange','green']\n",
        "for borough in unique_borough:\n",
        "  borough_dict[borough] = color[index]  #storing boroughs as key and color as value in the dictionary\n",
        "  index = index +1\n",
        "color_list=[] \n",
        "for borough in tophost_nghbrhood['borough']:\n",
        "  color_list.append(borough_dict[borough])  #storing different colors in the list according to the borough\n",
        "plt.figure(figsize=(25,10))\n",
        "plt.bar(tophost_nghbrhood['neighbourhood'], tophost_nghbrhood['count'], color = color_list) \n",
        "labels = list(borough_dict.keys())\n",
        "#to get labelling on plot\n",
        "custom_lines = [Line2D([0], [0], color='cyan', lw=4), \n",
        "                Line2D([0], [0], color='purple', lw=4),\n",
        "                Line2D([0], [0], color='red', lw=4),\n",
        "                Line2D([0], [0], color='orange', lw=4),\n",
        "                Line2D([0], [0], color='green', lw=4)]\n",
        "plt.xticks(rotation = 90)  #to rotate x-ticks by 90 degree\n",
        "plt.legend(custom_lines,labels)  #to get legend\n",
        "plt.xlabel('neighbourhood',fontsize=13)\n",
        "plt.ylabel('Number of hostings',fontsize=13)\n",
        "plt.title(\"Neighbourhoods in which top 10 hosts have their hostings\",fontsize=15)\n",
        "plt.show()"
      ]
    },
    {
      "cell_type": "markdown",
      "metadata": {
        "id": "Au7ViiNL5Jzu"
      },
      "source": [
        "*Top and major neighbourhoods comes under Manhattan and are the major attraction of tourists. That's the reason of multiple hostings are there in these neighbourhood.*"
      ]
    },
    {
      "cell_type": "code",
      "execution_count": null,
      "metadata": {
        "id": "0SOA0IMfDuVx"
      },
      "outputs": [],
      "source": [
        "#---------------------Block 44----------------------------\n",
        "\n",
        "#checking for no. of hostings for each room type by top 10 hosts\n",
        "tophost_df.groupby(['host_id','room_type']).agg({'id':'count'}) "
      ]
    },
    {
      "cell_type": "markdown",
      "metadata": {
        "id": "IbuI4HF7BZ23"
      },
      "source": [
        "*Ok so mostly they offer entire home only with just few of them offering private rooms and no shared rooms*"
      ]
    },
    {
      "cell_type": "markdown",
      "metadata": {
        "id": "Bg53-dSg7fP4"
      },
      "source": [
        "**Lets check on how the price of these hosts differs from the average price of boroughs. As most of them only have entire homes only so will check for that only**"
      ]
    },
    {
      "cell_type": "code",
      "execution_count": null,
      "metadata": {
        "id": "b5TffXluDwbE"
      },
      "outputs": [],
      "source": [
        "#---------------------Block 45----------------------------\n",
        "\n",
        "avgprice = tophost_df.groupby(['host_id','room_type']).agg({'price':'mean'}).reset_index()  #average price for each room type across top 10 hosts\n",
        "fig = plt.figure(figsize=(10,6))\n",
        "#creating a subdataframe from avgprice dataframe where room type is entire home\n",
        "avgprice = avgprice[avgprice['room_type']=='Entire home/apt'].reset_index().sort_values(by = 'price',ascending=False) \n",
        "ax = fig.gca() #to get current axes\n",
        "avgprice.plot.bar(x='host_id', y='price', ax = ax,color='olive')  #bar plot representing average price for entire home across each host among top 10 hosts\n",
        "plt.title('average prices across top 10 hosts for entire home roomtype',fontsize=13)\n",
        "for i,price in enumerate(list(avgprice['price'])):\n",
        "  ax.text(x=i,y = price+5, s = str(round(price,2)))"
      ]
    },
    {
      "cell_type": "markdown",
      "metadata": {
        "id": "bR_AkfbDJVGL"
      },
      "source": [
        "*Initially in block 31 when we plotted the box plot we saw that the median or an average price of entire home lies somewhere near 160-170 and also from block 33 we can see that the average entire home prices in Manhattan is 210 as most of these host belongs to Manhattan only.* \n",
        "\n",
        "*But there we have removed the outliers by setting a price threshold with 600 so lets try that here as well to see actual price differences among other hosts and these hosts.*"
      ]
    },
    {
      "cell_type": "code",
      "execution_count": null,
      "metadata": {
        "id": "xseuBYItDyvw"
      },
      "outputs": [],
      "source": [
        "#---------------------Block 46----------------------------\n",
        "\n",
        "#applying the same thing as in block 45 but setting price threshold as 350\n",
        "price_350 = tophost_df[tophost_df['price']<600]  #to create a subdataframe from tophost_df where price <600\n",
        "avgprice = price_350.groupby(['host_id','room_type']).agg({'price':'mean'}).reset_index()\n",
        "avgprice = avgprice[avgprice['room_type']=='Entire home/apt'].reset_index().sort_values(by = 'price',ascending=False)\n",
        "fig = plt.figure(figsize=(10,6))\n",
        "ax = fig.gca()\n",
        "avgprice.plot.bar(x='host_id', y='price', ax = ax,color='sandybrown')  #bar plot representing average price for entire home across top 10 hosts\n",
        "plt.title('average prices across top 10 hosts for entire home roomtype',fontsize=13)\n",
        "for i,price in enumerate(list(avgprice['price'])):\n",
        "  ax.text(x=i,y = price+5, s = str(round(price,2)))"
      ]
    },
    {
      "cell_type": "markdown",
      "metadata": {
        "id": "bIBJExbxOl43"
      },
      "source": [
        "*So even after setting a threshold as 600 for price, there is not much change in average prices and nearly these appears to be higher than average prices we have seen in block 33.*\n",
        "\n",
        "*So we can draw following conclusions. - Generally most of these top hosts might have luxurious apartments and most of them some where have a charge higher than the average charges we have seen earlier in block 31 and 33.*\n"
      ]
    },
    {
      "cell_type": "markdown",
      "metadata": {
        "id": "eiTQ_noHWrM1"
      },
      "source": [
        "###**So collected info about hosts are :**\n",
        "\n",
        "*1. We have 37k + unique hosts in our dataset.*\n",
        "\n",
        "*2. Most hosts has single rentals only. Although there are also such host having rentals as high as 327, then in 200s, 100s and 50s but general population in our dataset has 1 only.*\n",
        "\n",
        "*3. All these top host mostly belongs to Manhattan. Out of total rentals that these top 10 hosts combinely have only 88 from them is in other boroughs rest all are in Manhattan.*\n",
        "\n",
        "*4. Financial district neighbourhood is the one where all these top host mostly have their rentals.*\n",
        "\n",
        "*5. When trying to check, is it the price that sets these host difference it actually came into notice that these host in general have higher price than the average price in their respective boroughs. So it might following a phenomenon of brand value as we all know the higher the brand value higher the price. Yeah and also along with some good facilities.*"
      ]
    }
  ],
  "metadata": {
    "colab": {
      "collapsed_sections": [],
      "name": "Airbnb Bookings Analysis.ipynb",
      "provenance": [],
      "include_colab_link": true
    },
    "kernelspec": {
      "display_name": "Python 3",
      "language": "python",
      "name": "python3"
    },
    "language_info": {
      "codemirror_mode": {
        "name": "ipython",
        "version": 3
      },
      "file_extension": ".py",
      "mimetype": "text/x-python",
      "name": "python",
      "nbconvert_exporter": "python",
      "pygments_lexer": "ipython3",
      "version": "3.6.6"
    }
  },
  "nbformat": 4,
  "nbformat_minor": 0
}